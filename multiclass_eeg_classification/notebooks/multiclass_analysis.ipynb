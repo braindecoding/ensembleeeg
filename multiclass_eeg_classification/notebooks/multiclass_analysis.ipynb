{
 "cells": [
  {
   "cell_type": "markdown",
   "metadata": {},
   "source": [
    "# Multi-Class EEG Digit Classification Analysis\n",
    "\n",
    "This notebook provides an interactive analysis of the multi-class EEG classification project, extending from binary (6 vs 9) to full 10-digit classification (0-9)."
   ]
  },
  {
   "cell_type": "markdown",
   "metadata": {},
   "source": [
    "## 1. Setup and Imports"
   ]
  },
  {
   "cell_type": "code",
   "execution_count": null,
   "metadata": {},
   "outputs": [],
   "source": [
    "import numpy as np\n",
    "import pandas as pd\n",
    "import matplotlib.pyplot as plt\n",
    "import seaborn as sns\n",
    "from sklearn.metrics import accuracy_score, classification_report, confusion_matrix\n",
    "from sklearn.model_selection import train_test_split\n",
    "import torch\n",
    "import sys\n",
    "import os\n",
    "\n",
    "# Add src directory to path\n",
    "sys.path.append('../src')\n",
    "\n",
    "# Set style\n",
    "plt.style.use('seaborn-v0_8')\n",
    "sns.set_palette(\"husl\")\n",
    "\n",
    "print(\"📚 Libraries imported successfully\")"
   ]
  },
  {
   "cell_type": "markdown",
   "metadata": {},
   "source": [
    "## 2. Data Loading and Exploration"
   ]
  },
  {
   "cell_type": "code",
   "execution_count": null,
   "metadata": {},
   "outputs": [],
   "source": [
    "# Load multi-class data\n",
    "from multiclass_data_loader import load_multiclass_data, preprocess_multiclass_data\n",
    "\n",
    "# Load data\n",
    "data_path = \"../data/Data/EP1.01.txt\"\n",
    "X, y, metadata = load_multiclass_data(data_path, max_samples_per_digit=100)\n",
    "\n",
    "print(f\"Loaded {len(X)} samples\")\n",
    "print(f\"Classes: {np.unique(y)}\")\n",
    "print(f\"Class distribution: {np.bincount(y)}\")"
   ]
  },
  {
   "cell_type": "code",
   "execution_count": null,
   "metadata": {},
   "outputs": [],
   "source": [
    "# Visualize class distribution\n",
    "plt.figure(figsize=(10, 6))\n",
    "unique, counts = np.unique(y, return_counts=True)\n",
    "bars = plt.bar([f'Digit {i}' for i in unique], counts, color='skyblue', edgecolor='black')\n",
    "\n",
    "# Add value labels\n",
    "for bar, count in zip(bars, counts):\n",
    "    plt.text(bar.get_x() + bar.get_width()/2., bar.get_height() + 1,\n",
    "             str(count), ha='center', va='bottom')\n",
    "\n",
    "plt.xlabel('Digit Class')\n",
    "plt.ylabel('Number of Samples')\n",
    "plt.title('Multi-Class Dataset Distribution')\n",
    "plt.grid(True, alpha=0.3, axis='y')\n",
    "plt.show()"
   ]
  },
  {
   "cell_type": "markdown",
   "metadata": {},
   "source": [
    "## 3. Complexity Analysis: Binary vs Multi-Class"
   ]
  },
  {
   "cell_type": "code",
   "execution_count": null,
   "metadata": {},
   "outputs": [],
   "source": [
    "# Theoretical complexity comparison\n",
    "complexity_data = {\n",
    "    'Metric': ['Number of Classes', 'Decision Boundaries (OvR)', 'Decision Boundaries (OvO)', \n",
    "               'Random Baseline', 'Expected Accuracy', 'Confidence > 0.9 (%)'],\n",
    "    'Binary (6 vs 9)': [2, 1, 1, '50%', '80-85%', '80-90%'],\n",
    "    'Multi-class (0-9)': [10, 9, 45, '10%', '25-40%', '5-15%']\n",
    "}\n",
    "\n",
    "df_complexity = pd.DataFrame(complexity_data)\n",
    "print(\"Complexity Comparison:\")\n",
    "print(df_complexity.to_string(index=False))"
   ]
  },
  {
   "cell_type": "code",
   "execution_count": null,
   "metadata": {},
   "outputs": [],
   "source": [
    "# Visualize decision boundary complexity\n",
    "classes = np.arange(2, 11)\n",
    "ovr_boundaries = classes - 1\n",
    "ovo_boundaries = classes * (classes - 1) // 2\n",
    "\n",
    "plt.figure(figsize=(10, 6))\n",
    "plt.plot(classes, ovr_boundaries, 'o-', label='One-vs-Rest', linewidth=2, markersize=8)\n",
    "plt.plot(classes, ovo_boundaries, 's-', label='One-vs-One', linewidth=2, markersize=8)\n",
    "\n",
    "plt.xlabel('Number of Classes')\n",
    "plt.ylabel('Number of Decision Boundaries')\n",
    "plt.title('Decision Boundary Complexity Growth')\n",
    "plt.legend()\n",
    "plt.grid(True, alpha=0.3)\n",
    "plt.yscale('log')\n",
    "\n",
    "# Highlight binary vs 10-class\n",
    "plt.axvline(x=2, color='green', linestyle='--', alpha=0.7, label='Binary (Current)')\n",
    "plt.axvline(x=10, color='red', linestyle='--', alpha=0.7, label='10-class (Target)')\n",
    "plt.legend()\n",
    "plt.show()"
   ]
  },
  {
   "cell_type": "markdown",
   "metadata": {},
   "source": [
    "## 4. Sample Data Analysis"
   ]
  },
  {
   "cell_type": "code",
   "execution_count": null,
   "metadata": {},
   "outputs": [],
   "source": [
    "# Preprocess data\n",
    "X_processed, y_processed = preprocess_multiclass_data(X, y)\n",
    "\n",
    "# Visualize sample signals for different digits\n",
    "fig, axes = plt.subplots(2, 5, figsize=(20, 8))\n",
    "fig.suptitle('Sample EEG Signals for Each Digit', fontsize=16)\n",
    "\n",
    "for digit in range(10):\n",
    "    row = digit // 5\n",
    "    col = digit % 5\n",
    "    \n",
    "    # Find first sample of this digit\n",
    "    digit_indices = np.where(y_processed == digit)[0]\n",
    "    if len(digit_indices) > 0:\n",
    "        sample_idx = digit_indices[0]\n",
    "        signal = X_processed[sample_idx]\n",
    "        \n",
    "        axes[row, col].plot(signal, linewidth=1)\n",
    "        axes[row, col].set_title(f'Digit {digit}')\n",
    "        axes[row, col].set_xlabel('Time')\n",
    "        axes[row, col].set_ylabel('Amplitude')\n",
    "        axes[row, col].grid(True, alpha=0.3)\n",
    "    else:\n",
    "        axes[row, col].text(0.5, 0.5, f'No data\\nfor digit {digit}', \n",
    "                           ha='center', va='center', transform=axes[row, col].transAxes)\n",
    "\n",
    "plt.tight_layout()\n",
    "plt.show()"
   ]
  },
  {
   "cell_type": "markdown",
   "metadata": {},
   "source": [
    "## 5. Inter-Class Similarity Analysis"
   ]
  },
  {
   "cell_type": "code",
   "execution_count": null,
   "metadata": {},
   "outputs": [],
   "source": [
    "# Calculate pairwise correlations between digit classes\n",
    "digit_means = []\n",
    "digit_labels = []\n",
    "\n",
    "for digit in range(10):\n",
    "    digit_samples = X_processed[y_processed == digit]\n",
    "    if len(digit_samples) > 0:\n",
    "        digit_mean = np.mean(digit_samples, axis=0)\n",
    "        digit_means.append(digit_mean)\n",
    "        digit_labels.append(digit)\n",
    "\n",
    "# Calculate correlation matrix\n",
    "correlation_matrix = np.corrcoef(digit_means)\n",
    "\n",
    "# Visualize correlation matrix\n",
    "plt.figure(figsize=(10, 8))\n",
    "mask = np.triu(np.ones_like(correlation_matrix, dtype=bool))\n",
    "sns.heatmap(correlation_matrix, mask=mask, annot=True, fmt='.3f', \n",
    "            xticklabels=[f'Digit {i}' for i in digit_labels],\n",
    "            yticklabels=[f'Digit {i}' for i in digit_labels],\n",
    "            cmap='coolwarm', center=0)\n",
    "plt.title('Inter-Class Correlation Matrix\\n(Higher values indicate more similar EEG patterns)')\n",
    "plt.tight_layout()\n",
    "plt.show()\n",
    "\n",
    "# Find most and least similar digit pairs\n",
    "np.fill_diagonal(correlation_matrix, 0)  # Remove self-correlations\n",
    "max_corr_idx = np.unravel_index(np.argmax(correlation_matrix), correlation_matrix.shape)\n",
    "min_corr_idx = np.unravel_index(np.argmin(correlation_matrix), correlation_matrix.shape)\n",
    "\n",
    "print(f\"Most similar digits: {digit_labels[max_corr_idx[0]]} and {digit_labels[max_corr_idx[1]]} (correlation: {correlation_matrix[max_corr_idx]:.3f})\")\n",
    "print(f\"Least similar digits: {digit_labels[min_corr_idx[0]]} and {digit_labels[min_corr_idx[1]]} (correlation: {correlation_matrix[min_corr_idx]:.3f})\")"
   ]
  },
  {
   "cell_type": "markdown",
   "metadata": {},
   "source": [
    "## 6. Expected Performance Analysis"
   ]
  },
  {
   "cell_type": "code",
   "execution_count": null,
   "metadata": {},
   "outputs": [],
   "source": [
    "# Literature comparison\n",
    "literature_data = {\n",
    "    'Study': ['Kaongoen & Jo (2017)', 'Bird et al. (2019)', 'Spampinato et al. (2017)', \n",
    "              'This Work (Target)', 'Random Baseline'],\n",
    "    'Accuracy (%)': [31.2, 28.7, 40.0, 35.0, 10.0],\n",
    "    'Method': ['CNN', 'Deep Learning', 'CNN + Transfer', 'Ensemble', 'Random']\n",
    "}\n",
    "\n",
    "df_literature = pd.DataFrame(literature_data)\n",
    "\n",
    "plt.figure(figsize=(12, 6))\n",
    "bars = plt.bar(df_literature['Study'], df_literature['Accuracy (%)'], \n",
    "               color=['#FF6B6B', '#4ECDC4', '#45B7D1', '#96CEB4', '#FFA07A'])\n",
    "\n",
    "# Add value labels\n",
    "for bar, acc in zip(bars, df_literature['Accuracy (%)']):\n",
    "    plt.text(bar.get_x() + bar.get_width()/2., bar.get_height() + 0.5,\n",
    "             f'{acc}%', ha='center', va='bottom', fontweight='bold')\n",
    "\n",
    "plt.ylabel('Accuracy (%)')\n",
    "plt.title('Multi-Class EEG Classification: Literature Comparison')\n",
    "plt.xticks(rotation=45)\n",
    "plt.grid(True, alpha=0.3, axis='y')\n",
    "plt.tight_layout()\n",
    "plt.show()\n",
    "\n",
    "print(\"Literature Summary:\")\n",
    "print(df_literature.to_string(index=False))"
   ]
  },
  {
   "cell_type": "markdown",
   "metadata": {},
   "source": [
    "## 7. Confidence Distribution Simulation"
   ]
  },
  {
   "cell_type": "code",
   "execution_count": null,
   "metadata": {},
   "outputs": [],
   "source": [
    "# Simulate expected confidence distributions\n",
    "np.random.seed(42)\n",
    "\n",
    "# Binary task confidence (from actual results)\n",
    "binary_confidence = np.random.beta(8, 2, 1000)  # High confidence distribution\n",
    "\n",
    "# Multi-class confidence (expected)\n",
    "multiclass_confidence = np.random.beta(2, 3, 1000)  # Lower confidence distribution\n",
    "\n",
    "plt.figure(figsize=(12, 5))\n",
    "\n",
    "plt.subplot(1, 2, 1)\n",
    "plt.hist(binary_confidence, bins=30, alpha=0.7, color='green', edgecolor='black')\n",
    "plt.xlabel('Confidence')\n",
    "plt.ylabel('Frequency')\n",
    "plt.title(f'Binary Classification (6 vs 9)\\nMean: {binary_confidence.mean():.3f}')\n",
    "plt.axvline(binary_confidence.mean(), color='red', linestyle='--', label='Mean')\n",
    "plt.legend()\n",
    "plt.grid(True, alpha=0.3)\n",
    "\n",
    "plt.subplot(1, 2, 2)\n",
    "plt.hist(multiclass_confidence, bins=30, alpha=0.7, color='orange', edgecolor='black')\n",
    "plt.xlabel('Confidence')\n",
    "plt.ylabel('Frequency')\n",
    "plt.title(f'Multi-Class (0-9) - Expected\\nMean: {multiclass_confidence.mean():.3f}')\n",
    "plt.axvline(multiclass_confidence.mean(), color='red', linestyle='--', label='Mean')\n",
    "plt.legend()\n",
    "plt.grid(True, alpha=0.3)\n",
    "\n",
    "plt.tight_layout()\n",
    "plt.show()\n",
    "\n",
    "print(f\"Binary task - High confidence (>0.9): {np.sum(binary_confidence > 0.9)/len(binary_confidence)*100:.1f}%\")\n",
    "print(f\"Multi-class - High confidence (>0.9): {np.sum(multiclass_confidence > 0.9)/len(multiclass_confidence)*100:.1f}%\")"
   ]
  },
  {
   "cell_type": "markdown",
   "metadata": {},
   "source": [
    "## 8. Research Questions and Hypotheses"
   ]
  },
  {
   "cell_type": "markdown",
   "metadata": {},
   "source": [
    "### Key Research Questions:\n",
    "\n",
    "1. **Scalability**: How does classification difficulty scale with the number of classes?\n",
    "2. **Discriminability**: Which digits are most/least distinguishable in EEG signals?\n",
    "3. **Hierarchical Approaches**: Can hierarchical classification improve performance?\n",
    "4. **Attention Mechanisms**: What is the role of attention in multi-class EEG classification?\n",
    "5. **Confidence Calibration**: How does confidence distribution change with task complexity?\n",
    "\n",
    "### Hypotheses:\n",
    "\n",
    "1. **H1**: Multi-class accuracy will be 25-40% (vs 10% random baseline)\n",
    "2. **H2**: Confidence distribution will be more realistic (mean ~0.4 vs ~0.9 for binary)\n",
    "3. **H3**: Hierarchical ensemble will outperform flat multi-class approaches\n",
    "4. **H4**: Attention mechanisms will be crucial for identifying discriminative temporal patterns\n",
    "5. **H5**: Some digit pairs (e.g., 6-8, 3-8) will show higher confusion rates"
   ]
  },
  {
   "cell_type": "markdown",
   "metadata": {},
   "source": [
    "## 9. Next Steps"
   ]
  },
  {
   "cell_type": "markdown",
   "metadata": {},
   "source": [
    "### Immediate Tasks:\n",
    "1. Run the complete multi-class experiment: `python ../src/run_multiclass_experiment.py`\n",
    "2. Analyze results and compare with literature\n",
    "3. Develop advanced ensemble methods\n",
    "4. Generate publication-quality figures\n",
    "\n",
    "### Publication Strategy:\n",
    "1. **Target Journals**: IEEE TNSRE, Journal of Neural Engineering, Frontiers in Neuroscience\n",
    "2. **Key Contributions**: Hierarchical ensemble, confidence analysis, scalability study\n",
    "3. **Timeline**: 3-6 months for complete study and manuscript preparation"
   ]
  }
 ],
 "metadata": {
  "kernelspec": {
   "display_name": "Python 3",
   "language": "python",
   "name": "python3"
  },
  "language_info": {
   "codemirror_mode": {
    "name": "ipython",
    "version": 3
   },
   "file_extension": ".py",
   "mimetype": "text/x-python",
   "name": "python",
   "nbconvert_exporter": "python",
   "pygments_lexer": "ipython3",
   "version": "3.8.5"
  }
 },
 "nbformat": 4,
 "nbformat_minor": 4
}
